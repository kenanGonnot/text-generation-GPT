{
 "cells": [
  {
   "cell_type": "markdown",
   "id": "12ef8ae4",
   "metadata": {},
   "source": [
    "## ChatGPT Like\n",
    "\n",
    "using TikToken"
   ]
  },
  {
   "cell_type": "code",
   "execution_count": 1,
   "id": "7cdc286d",
   "metadata": {
    "id": "e3e98bac-d43a-40c5-ae98-0afbf5af92d8",
    "tags": []
   },
   "outputs": [
    {
     "name": "stdout",
     "output_type": "stream",
     "text": [
      "\u001b[33mWARNING: Running pip as the 'root' user can result in broken permissions and conflicting behaviour with the system package manager. It is recommended to use a virtual environment instead: https://pip.pypa.io/warnings/venv\u001b[0m\u001b[33m\n",
      "\u001b[0m\u001b[33mWARNING: Running pip as the 'root' user can result in broken permissions and conflicting behaviour with the system package manager. It is recommended to use a virtual environment instead: https://pip.pypa.io/warnings/venv\u001b[0m\u001b[33m\n",
      "\u001b[0m"
     ]
    }
   ],
   "source": [
    "!pip install tiktoken -q\n",
    "!pip install matplotlib -q "
   ]
  },
  {
   "cell_type": "code",
   "execution_count": 2,
   "id": "e3e98bac-d43a-40c5-ae98-0afbf5af92d8",
   "metadata": {
    "id": "e3e98bac-d43a-40c5-ae98-0afbf5af92d8",
    "tags": []
   },
   "outputs": [],
   "source": [
    "import re\n",
    "import matplotlib.pyplot as plt\n",
    "import time\n",
    "import os\n",
    "import tiktoken\n",
    "import torch\n",
    "import torch.nn as nn\n",
    "import numpy as np\n",
    "from torch.nn import functional as F"
   ]
  },
  {
   "cell_type": "markdown",
   "id": "afa6f915",
   "metadata": {},
   "source": [
    "Hyperparameters"
   ]
  },
  {
   "cell_type": "code",
   "execution_count": 15,
   "id": "bf3e5387-071a-4ba3-b1ee-d328e21e9106",
   "metadata": {
    "colab": {
     "base_uri": "https://localhost:8080/"
    },
    "id": "bf3e5387-071a-4ba3-b1ee-d328e21e9106",
    "outputId": "10262c88-ec0c-4462-f136-80ec27cb8a71",
    "tags": []
   },
   "outputs": [],
   "source": [
    "batch_size = 128 #64 # how many independent sequences will we process in parallel?\n",
    "block_size = 128 #256 # what is the maximum context length for predictions?\n",
    "max_iters = 2\n",
    "eval_interval = 500\n",
    "learning_rate = 3e-7\n",
    "device = 'cuda' if torch.cuda.is_available() else 'cpu'\n",
    "eval_iters = 200\n",
    "n_embd = 384\n",
    "n_head = 6\n",
    "n_layer = 6\n",
    "dropout = 0.2\n",
    "# ------------\n",
    "\n",
    "#torch.manual_seed(1337)"
   ]
  },
  {
   "cell_type": "code",
   "execution_count": 4,
   "id": "1a9c7642",
   "metadata": {
    "colab": {
     "base_uri": "https://localhost:8080/"
    },
    "id": "1a9c7642",
    "outputId": "62dde767-e7af-499a-f381-95dd3e5532fa",
    "tags": []
   },
   "outputs": [
    {
     "data": {
      "text/plain": [
       "True"
      ]
     },
     "execution_count": 4,
     "metadata": {},
     "output_type": "execute_result"
    }
   ],
   "source": [
    "torch.cuda.is_available()"
   ]
  },
  {
   "cell_type": "markdown",
   "id": "948ef3af",
   "metadata": {},
   "source": [
    "## Set up"
   ]
  },
  {
   "cell_type": "markdown",
   "id": "5699f027",
   "metadata": {},
   "source": [
    "Read input + Tokenizer"
   ]
  },
  {
   "cell_type": "code",
   "execution_count": 5,
   "id": "2b8ade7a-81dd-430e-9ec8-430582de178a",
   "metadata": {
    "id": "2b8ade7a-81dd-430e-9ec8-430582de178a",
    "tags": []
   },
   "outputs": [],
   "source": [
    "with open('input-fr-tiktoken.txt', 'r', encoding='utf-8') as f:\n",
    "    text = f.read()\n"
   ]
  },
  {
   "cell_type": "code",
   "execution_count": 6,
   "id": "b0859ca1",
   "metadata": {
    "tags": []
   },
   "outputs": [
    {
     "name": "stdout",
     "output_type": "stream",
     "text": [
      "\n",
      "vocab size:  50257\n"
     ]
    }
   ],
   "source": [
    "tokenizers = tiktoken.get_encoding(\"gpt2\") #gpt2 cl100k_base\n",
    "vocab_size = tokenizers.n_vocab\n",
    "print(\"\\nvocab size: \", vocab_size)"
   ]
  },
  {
   "cell_type": "markdown",
   "id": "0712356d",
   "metadata": {},
   "source": [
    "Sampling\n",
    "```\n",
    "te = text[20000:20400]\n",
    "len(tokenizers.encode(te))\n",
    "```\n"
   ]
  },
  {
   "cell_type": "code",
   "execution_count": 7,
   "id": "iD2NpJRm94Af",
   "metadata": {
    "colab": {
     "base_uri": "https://localhost:8080/"
    },
    "id": "iD2NpJRm94Af",
    "outputId": "9561c2c2-5238-4bf2-b0e6-539dfbb9db2b",
    "tags": []
   },
   "outputs": [
    {
     "name": "stdout",
     "output_type": "stream",
     "text": [
      "torch.Size([145781390]) torch.int64\n",
      "tensor([21944,   273, 25930,   628,   198, 35882,  1291,    85,   603,   293,\n",
      "         1834,   390])\n"
     ]
    }
   ],
   "source": [
    "data = torch.tensor(tokenizers.encode(text), dtype=torch.long)\n",
    "print(data.shape, data.dtype)\n",
    "print(data[:12])\n",
    "\n",
    "n = int(0.9*len(data)) # first 90% will be train, rest val\n",
    "train_data = data[:n]\n",
    "val_data = data[n:]\n",
    "\n",
    "#train_data[:block_size+1]"
   ]
  },
  {
   "cell_type": "markdown",
   "id": "41e08566",
   "metadata": {},
   "source": [
    "Model + utilities"
   ]
  },
  {
   "cell_type": "code",
   "execution_count": 8,
   "id": "86704639-48f8-4800-a9a4-7a45831bc079",
   "metadata": {
    "id": "86704639-48f8-4800-a9a4-7a45831bc079",
    "tags": []
   },
   "outputs": [],
   "source": [
    "# data loading\n",
    "def get_batch(split):\n",
    "    # generate a small batch of data of inputs x and targets y\n",
    "    data = train_data if split == 'train' else val_data\n",
    "    ix = torch.randint(len(data) - block_size, (batch_size,))\n",
    "    x = torch.stack([data[i:i+block_size] for i in ix])\n",
    "    y = torch.stack([data[i+1:i+block_size+1] for i in ix])\n",
    "    x, y = x.to(device), y.to(device)\n",
    "    return x, y\n",
    "\n",
    "@torch.no_grad()\n",
    "def estimate_loss():\n",
    "    out = {}\n",
    "    model.eval()\n",
    "    for split in ['train', 'val']:\n",
    "        losses = torch.zeros(eval_iters)\n",
    "        for k in range(eval_iters):\n",
    "            X, Y = get_batch(split)\n",
    "            logits, loss = model(X, Y)\n",
    "            losses[k] = loss.item()\n",
    "        out[split] = losses.mean()\n",
    "    model.train()\n",
    "    return out\n",
    "\n",
    "class Head(nn.Module):\n",
    "    \"\"\" one head of self-attention \"\"\"\n",
    "\n",
    "    def __init__(self, head_size):\n",
    "        super().__init__()\n",
    "        self.key = nn.Linear(n_embd, head_size, bias=False)\n",
    "        self.query = nn.Linear(n_embd, head_size, bias=False)\n",
    "        self.value = nn.Linear(n_embd, head_size, bias=False)\n",
    "        self.register_buffer('tril', torch.tril(torch.ones(block_size, block_size)))\n",
    "\n",
    "        self.dropout = nn.Dropout(dropout)\n",
    "\n",
    "    def forward(self, x):\n",
    "        # input of size (batch, time-step, channels)\n",
    "        # output of size (batch, time-step, head size)\n",
    "        B,T,C = x.shape\n",
    "        k = self.key(x)   # (B,T,hs)\n",
    "        q = self.query(x) # (B,T,hs)\n",
    "        # compute attention scores (\"affinities\")\n",
    "        wei = q @ k.transpose(-2,-1) * k.shape[-1]**-0.5 # (B, T, hs) @ (B, hs, T) -> (B, T, T)\n",
    "        wei = wei.masked_fill(self.tril[:T, :T] == 0, float('-inf')) # (B, T, T)\n",
    "        wei = F.softmax(wei, dim=-1) # (B, T, T)\n",
    "        wei = self.dropout(wei)\n",
    "        # perform the weighted aggregation of the values\n",
    "        v = self.value(x) # (B,T,hs)\n",
    "        out = wei @ v # (B, T, T) @ (B, T, hs) -> (B, T, hs)\n",
    "        return out\n",
    "\n",
    "class MultiHeadAttention(nn.Module):\n",
    "    \"\"\" multiple heads of self-attention in parallel \"\"\"\n",
    "\n",
    "    def __init__(self, num_heads, head_size):\n",
    "        super().__init__()\n",
    "        self.heads = nn.ModuleList([Head(head_size) for _ in range(num_heads)])\n",
    "        self.proj = nn.Linear(head_size * num_heads, n_embd)\n",
    "        self.dropout = nn.Dropout(dropout)\n",
    "\n",
    "    def forward(self, x):\n",
    "        out = torch.cat([h(x) for h in self.heads], dim=-1)\n",
    "        out = self.dropout(self.proj(out))\n",
    "        return out\n",
    "\n",
    "class FeedFoward(nn.Module):\n",
    "    \"\"\" a simple linear layer followed by a non-linearity \"\"\"\n",
    "\n",
    "    def __init__(self, n_embd):\n",
    "        super().__init__()\n",
    "        self.net = nn.Sequential(\n",
    "            nn.Linear(n_embd, 4 * n_embd),\n",
    "            nn.ReLU(),\n",
    "            nn.Linear(4 * n_embd, n_embd),\n",
    "            nn.Dropout(dropout),\n",
    "        )\n",
    "\n",
    "    def forward(self, x):\n",
    "        return self.net(x)\n",
    "\n",
    "class Block(nn.Module):\n",
    "    \"\"\" Transformer block: communication followed by computation \"\"\"\n",
    "\n",
    "    def __init__(self, n_embd, n_head):\n",
    "        # n_embd: embedding dimension, n_head: the number of heads we'd like\n",
    "        super().__init__()\n",
    "        head_size = n_embd // n_head\n",
    "        self.sa = MultiHeadAttention(n_head, head_size)\n",
    "        self.ffwd = FeedFoward(n_embd)\n",
    "        self.ln1 = nn.LayerNorm(n_embd)\n",
    "        self.ln2 = nn.LayerNorm(n_embd)\n",
    "\n",
    "    def forward(self, x):\n",
    "        x = x + self.sa(self.ln1(x))\n",
    "        x = x + self.ffwd(self.ln2(x))\n",
    "        return x\n",
    "\n",
    "class GPTLanguageModel(nn.Module):\n",
    "\n",
    "    def __init__(self):\n",
    "        super().__init__()\n",
    "        # each token directly reads off the logits for the next token from a lookup table\n",
    "        self.token_embedding_table = nn.Embedding(vocab_size, n_embd)\n",
    "        self.position_embedding_table = nn.Embedding(block_size, n_embd)\n",
    "        self.blocks = nn.Sequential(*[Block(n_embd, n_head=n_head) for _ in range(n_layer)])\n",
    "        self.ln_f = nn.LayerNorm(n_embd) # final layer norm\n",
    "        self.lm_head = nn.Linear(n_embd, vocab_size)\n",
    "\n",
    "        # better init, not covered in the original GPT video, but important, will cover in followup video\n",
    "        self.apply(self._init_weights)\n",
    "\n",
    "    def _init_weights(self, module):\n",
    "        if isinstance(module, nn.Linear):\n",
    "            torch.nn.init.normal_(module.weight, mean=0.0, std=0.02)\n",
    "            if module.bias is not None:\n",
    "                torch.nn.init.zeros_(module.bias)\n",
    "        elif isinstance(module, nn.Embedding):\n",
    "            torch.nn.init.normal_(module.weight, mean=0.0, std=0.02)\n",
    "\n",
    "    def forward(self, idx, targets=None):\n",
    "        B, T = idx.shape\n",
    "\n",
    "        # idx and targets are both (B,T) tensor of integers\n",
    "        tok_emb = self.token_embedding_table(idx) # (B,T,C)\n",
    "        pos_emb = self.position_embedding_table(torch.arange(T, device=device)) # (T,C)\n",
    "        x = tok_emb + pos_emb # (B,T,C)\n",
    "        x = self.blocks(x) # (B,T,C)\n",
    "        x = self.ln_f(x) # (B,T,C)\n",
    "        logits = self.lm_head(x) # (B,T,vocab_size)\n",
    "\n",
    "        if targets is None:\n",
    "            loss = None\n",
    "        else:\n",
    "            B, T, C = logits.shape\n",
    "            logits = logits.view(B*T, C)\n",
    "            targets = targets.view(B*T)\n",
    "            loss = F.cross_entropy(logits, targets)\n",
    "\n",
    "        return logits, loss\n",
    "\n",
    "    def generate(self, idx, max_new_tokens):\n",
    "        # idx is (B, T) array of indices in the current context\n",
    "        for _ in range(max_new_tokens):\n",
    "            # crop idx to the last block_size tokens\n",
    "            idx_cond = idx[:, -block_size:]\n",
    "            # get the predictions\n",
    "            logits, loss = self(idx_cond)\n",
    "            # focus only on the last time step\n",
    "            logits = logits[:, -1, :] # becomes (B, C)\n",
    "            # apply softmax to get probabilities\n",
    "            probs = F.softmax(logits, dim=-1) # (B, C)\n",
    "            # sample from the distribution\n",
    "            idx_next = torch.multinomial(probs, num_samples=1) # (B, 1)\n",
    "            # append sampled index to the running sequence\n",
    "            idx = torch.cat((idx, idx_next), dim=1) # (B, T+1)\n",
    "        return idx"
   ]
  },
  {
   "cell_type": "code",
   "execution_count": 9,
   "id": "5c9c51a6",
   "metadata": {
    "tags": []
   },
   "outputs": [
    {
     "name": "stdout",
     "output_type": "stream",
     "text": [
      "saved-tiktoken-64batch-128block-\n"
     ]
    }
   ],
   "source": [
    "#backup_prefix = \"saved-tiktoken-{}batch-{}block-\".format(batch_size, block_size)\n",
    "backup_prefix = \"saved-tiktoken-64batch-128block-\"\n",
    "print(backup_prefix)\n",
    "\n",
    "def get_last_backup(backup_prefix):\n",
    "    matching_files = [f for f in os.listdir('.') if os.path.isfile(f) and f.startswith(backup_prefix)]\n",
    "    if (len(matching_files)==0):\n",
    "        return \"\"\n",
    "    return max(matching_files, key=os.path.getmtime)\n",
    "\n",
    "def extract_iteration_count_from(file_name):\n",
    "    match = re.search(r'\\d+(?=-ite)', file_name)\n",
    "    if match:\n",
    "        return int(match.group())\n",
    "    else:\n",
    "        return 0\n"
   ]
  },
  {
   "cell_type": "code",
   "execution_count": 10,
   "id": "a311bbd8",
   "metadata": {
    "tags": []
   },
   "outputs": [],
   "source": [
    "def append_losses_to_file(filename, float_list):\n",
    "    # open file in append mode\n",
    "    with open(filename, 'a') as f:\n",
    "        np.savetxt(f, float_list) #.numpy() \n",
    "    # close the file\n",
    "    f.close()\n"
   ]
  },
  {
   "cell_type": "markdown",
   "id": "667ae86d",
   "metadata": {},
   "source": [
    "## Instanciate model"
   ]
  },
  {
   "cell_type": "markdown",
   "id": "96131056",
   "metadata": {},
   "source": [
    "Create Model"
   ]
  },
  {
   "cell_type": "code",
   "execution_count": 11,
   "id": "0af3b262",
   "metadata": {
    "colab": {
     "base_uri": "https://localhost:8080/"
    },
    "id": "7e0e56ad-6416-43ea-bad4-76ad06ea9b80",
    "outputId": "5f491a56-141e-44ef-9633-a8e9018ce260",
    "tags": []
   },
   "outputs": [],
   "source": [
    "model = GPTLanguageModel()"
   ]
  },
  {
   "cell_type": "markdown",
   "id": "f754cfed",
   "metadata": {},
   "source": [
    "Load weights from previous backup (if any)"
   ]
  },
  {
   "cell_type": "code",
   "execution_count": 12,
   "id": "35dbd8e3",
   "metadata": {
    "tags": []
   },
   "outputs": [],
   "source": [
    "last_backup_file = get_last_backup(backup_prefix)"
   ]
  },
  {
   "cell_type": "code",
   "execution_count": 13,
   "id": "f70311e9-96c4-4b30-8acf-9cbe200d0383",
   "metadata": {
    "id": "f70311e9-96c4-4b30-8acf-9cbe200d0383",
    "outputId": "63b0d96c-1825-4254-90d0-2796df0c646f",
    "tags": []
   },
   "outputs": [
    {
     "name": "stdout",
     "output_type": "stream",
     "text": [
      "Weights loaded from saved-tiktoken-64batch-128block-4710-ite-x_xx\n"
     ]
    }
   ],
   "source": [
    "if (len(last_backup_file)!=0):\n",
    "    model.load_state_dict(torch.load(last_backup_file))\n",
    "    model.eval()\n",
    "    print(\"Weights loaded from\", last_backup_file)"
   ]
  },
  {
   "cell_type": "markdown",
   "id": "dce79421",
   "metadata": {},
   "source": [
    "Prepare model"
   ]
  },
  {
   "cell_type": "code",
   "execution_count": 14,
   "id": "7e0e56ad-6416-43ea-bad4-76ad06ea9b80",
   "metadata": {
    "colab": {
     "base_uri": "https://localhost:8080/"
    },
    "id": "7e0e56ad-6416-43ea-bad4-76ad06ea9b80",
    "outputId": "5f491a56-141e-44ef-9633-a8e9018ce260",
    "tags": []
   },
   "outputs": [
    {
     "name": "stdout",
     "output_type": "stream",
     "text": [
      "49.337425 M parameters\n"
     ]
    }
   ],
   "source": [
    "m = model.to(device)\n",
    "# print the number of parameters in the model\n",
    "print(sum(p.numel() for p in m.parameters())/1e6, 'M parameters')\n",
    "\n",
    "# create a PyTorch optimizer\n",
    "optimizer = torch.optim.AdamW(model.parameters(), lr=learning_rate)"
   ]
  },
  {
   "cell_type": "markdown",
   "id": "dfc48ee6",
   "metadata": {},
   "source": [
    "## Run Training"
   ]
  },
  {
   "cell_type": "code",
   "execution_count": 137,
   "id": "a3d1be2f-6bb6-41e9-9937-cc8853dc0cfb",
   "metadata": {
    "id": "a3d1be2f-6bb6-41e9-9937-cc8853dc0cfb",
    "tags": []
   },
   "outputs": [],
   "source": [
    "max_iters = 100"
   ]
  },
  {
   "cell_type": "code",
   "execution_count": 21,
   "id": "32c45bd5-712a-49ca-b103-35a63f2bc222",
   "metadata": {
    "id": "32c45bd5-712a-49ca-b103-35a63f2bc222",
    "pycharm": {
     "is_executing": true
    },
    "scrolled": true,
    "tags": []
   },
   "outputs": [
    {
     "name": "stdout",
     "output_type": "stream",
     "text": [
      "step 0: train loss 2.7872, val loss 2.8585\n",
      "Time : 18.943720 seconds\n",
      "step 1: train loss 2.7891, val loss 2.8571\n",
      "Time : 18.956931 seconds\n"
     ]
    }
   ],
   "source": [
    "all_train_losses = []\n",
    "all_val_losses = []\n",
    "for iter in range(max_iters):\n",
    "    start_time = time.time()\n",
    "\n",
    "    # every once in a while evaluate the loss on train and val sets\n",
    "    #if iter % eval_interval == 0 or iter == max_iters - 1:\n",
    "    losses = estimate_loss()\n",
    "    print(f\"step {iter}: train loss {losses['train']:.4f}, val loss {losses['val']:.4f}\")\n",
    "    \n",
    "    all_train_losses.append(losses['train'])\n",
    "    all_val_losses.append(losses['val'])\n",
    "\n",
    "    # sample a batch of data\n",
    "    xb, yb = get_batch('train')\n",
    "\n",
    "    # evaluate the loss\n",
    "    logits, loss = model(xb, yb)\n",
    "    optimizer.zero_grad(set_to_none=True)\n",
    "    loss.backward()\n",
    "    optimizer.step()\n",
    "    print(\"Time : {:2f} seconds\".format(time.time()-start_time))"
   ]
  },
  {
   "cell_type": "markdown",
   "id": "fbbf9087",
   "metadata": {},
   "source": [
    "Create samples"
   ]
  },
  {
   "cell_type": "code",
   "execution_count": 22,
   "id": "bd397621-3e6f-4fd7-ac88-919e6560db70",
   "metadata": {
    "id": "bd397621-3e6f-4fd7-ac88-919e6560db70",
    "pycharm": {
     "is_executing": true
    },
    "tags": []
   },
   "outputs": [
    {
     "name": "stdout",
     "output_type": "stream",
     "text": [
      "! Plusouter. Shol Symoder d’aristocrat Lethieraisruierry. Sa destinée se douterait avec la lrompe. Elle était devenu digne de guerre à de vertement. Elle avait lits ; Cosette appelait le peuple.\n",
      "\n",
      "Tandis que dom Claude s’était amusé à la chandelle, les gaules n’avait pas millairé. Fantine était en effet par un homme noirce à bec. Josiane était terriblement bonne. La bontéante tombante préparait avec donux. Il le déditions, son dévôt, l’audace, le sentin forain de gauche s’allumaire si étrange et si velu comme sans sublime.\n",
      "\n",
      "– C’est moi ! mais ! dit-elle en rouge à un voile qui pouvait se signifier un peu, puisque notre bon Dieu m’a gagnée !\n",
      "\n",
      "\n",
      "\n",
      "\n"
     ]
    }
   ],
   "source": [
    "# generate from the model\n",
    "context = torch.zeros((1, 1), dtype=torch.long, device=device)\n",
    "\n",
    "print(tokenizers.decode(m.generate(context, max_new_tokens=250)[0].tolist()))\n",
    "#open('more.txt', 'w').write(decode(m.generate(context, max_new_tokens=10000)[0].tolist()))\n"
   ]
  },
  {
   "cell_type": "code",
   "execution_count": 23,
   "id": "e3ff9527-53fa-4029-a42a-3c799961a738",
   "metadata": {
    "id": "e3ff9527-53fa-4029-a42a-3c799961a738",
    "scrolled": true,
    "tags": []
   },
   "outputs": [
    {
     "name": "stdout",
     "output_type": "stream",
     "text": [
      "Sous un soleil, était completu. Il n’était pas comme on mort miasme et on pouvait renoncer quelques annamineries de représentant un phénomce de batelier par de Saint- Zacharie, et qu’on entendait éleventuer deux polissoliers au dehors. Il donnait le patron de la salle non de La Ville-du-Rollin et arrement des souliers deux fottes intérête blancs ; ce petit geôle qui lui avait dit : « Vous avez pourquoi : sont les chevaux pussants qui ont dû vu leur bonheur ? Savez-vous à qui mes dans la vieille femme Balaude a la plus galaste que vous êtes d’hon, répétèrent comme ceux qui vous ténérait comme ça arrive à une époussetée six pieds. »\n",
      "\n",
      "q fréquentes comme ces dix-torts dés,\n"
     ]
    }
   ],
   "source": [
    "context = torch.tensor([tokenizers.encode(\"Sous un soleil, \")], dtype=torch.long, device=device)\n",
    "\n",
    "print(tokenizers.decode(m.generate(context, max_new_tokens=250)[0].tolist()))\n",
    "#open('more.txt', 'w').write(decode(m.generate(context, max_new_tokens=10000)[0].tolist()))\n"
   ]
  },
  {
   "cell_type": "markdown",
   "id": "98c1ffbd",
   "metadata": {},
   "source": [
    "Save results"
   ]
  },
  {
   "cell_type": "code",
   "execution_count": 24,
   "id": "1c4883f1",
   "metadata": {
    "id": "042c197c-d4c7-46a6-8778-b54a58d57e2a",
    "tags": []
   },
   "outputs": [
    {
     "name": "stdout",
     "output_type": "stream",
     "text": [
      "Save in: saved-tiktoken-64batch-128block-4712-ite-x_xx\n"
     ]
    }
   ],
   "source": [
    "last_iteration = extract_iteration_count_from(last_backup_file)\n",
    "current_iteration = last_iteration + max_iters\n",
    "current_save = \"{}{}-ite-x_xx\".format(backup_prefix, current_iteration)\n",
    "print(\"Save in:\",current_save)"
   ]
  },
  {
   "cell_type": "code",
   "execution_count": 25,
   "id": "8c6512e8",
   "metadata": {
    "id": "042c197c-d4c7-46a6-8778-b54a58d57e2a",
    "tags": []
   },
   "outputs": [],
   "source": [
    "torch.save(model.state_dict(), current_save)\n",
    "\n",
    "append_losses_to_file(\"saved-tiktoken-train-losses.txt\", all_train_losses)\n",
    "append_losses_to_file(\"saved-tiktoken-val-losses.txt\", all_val_losses)"
   ]
  },
  {
   "cell_type": "markdown",
   "id": "4fbe2eda",
   "metadata": {},
   "source": [
    "## Graphs"
   ]
  },
  {
   "cell_type": "code",
   "execution_count": 26,
   "id": "4d7ce2ed-f0cf-4eb4-bae1-698e664626b9",
   "metadata": {
    "id": "4d7ce2ed-f0cf-4eb4-bae1-698e664626b9",
    "tags": []
   },
   "outputs": [
    {
     "data": {
      "image/png": "[encoded data removed]",
      "text/plain": [
       "<Figure size 640x480 with 1 Axes>"
      ]
     },
     "metadata": {},
     "output_type": "display_data"
    }
   ],
   "source": [
    "# load array from file and convert to PyTorch tensor\n",
    "train_losses = np.loadtxt('saved-tiktoken-train-losses.txt')\n",
    "val_losses = np.loadtxt('saved-tiktoken-val-losses.txt')\n",
    "#my_tensor = torch.from_numpy(my_array)\n",
    "\n",
    "\n",
    "def plot_losses(losses1, losses2):\n",
    "    # create a new figure\n",
    "    plt.figure()\n",
    "\n",
    "    # plot the first series of losses\n",
    "    plt.plot(losses1, label='Train loss')\n",
    "\n",
    "    # plot the second series of losses\n",
    "    plt.plot(losses2, label='Val loss')\n",
    "\n",
    "    # add labels and title to the plot\n",
    "    plt.xlabel('Epoch')\n",
    "    plt.ylabel('Loss')\n",
    "    plt.title('Losses')\n",
    "\n",
    "    # add a legend to the plot\n",
    "    plt.legend()\n",
    "\n",
    "    # display the plot\n",
    "    plt.show()\n",
    "\n",
    "plot_losses(train_losses, val_losses)"
   ]
  },
  {
   "cell_type": "markdown",
   "id": "55ac6c92",
   "metadata": {},
   "source": [
    "## Clean-up"
   ]
  },
  {
   "cell_type": "code",
   "execution_count": 131,
   "id": "7cc1e560",
   "metadata": {
    "tags": []
   },
   "outputs": [],
   "source": [
    "del m\n",
    "del model\n",
    "del optimizer\n",
    "\n",
    "torch.cuda.empty_cache()"
   ]
  },
  {
   "cell_type": "markdown",
   "id": "091044d8",
   "metadata": {},
   "source": [
    "."
   ]
  }
 ],
 "metadata": {
  "colab": {
   "provenance": []
  },
  "kernelspec": {
   "display_name": "Python 3 (ipykernel)",
   "language": "python",
   "name": "python3"
  },
  "language_info": {
   "codemirror_mode": {
    "name": "ipython",
    "version": 3
   },
   "file_extension": ".py",
   "mimetype": "text/x-python",
   "name": "python",
   "nbconvert_exporter": "python",
   "pygments_lexer": "ipython3",
   "version": "3.10.9"
  }
 },
 "nbformat": 4,
 "nbformat_minor": 5
}
