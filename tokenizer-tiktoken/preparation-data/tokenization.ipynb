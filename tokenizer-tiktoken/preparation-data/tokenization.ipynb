{
 "cells": [
  {
   "cell_type": "markdown",
   "id": "12ef8ae4",
   "metadata": {},
   "source": [
    "# Prepare data for training"
   ]
  },
  {
   "cell_type": "code",
   "execution_count": 8,
   "id": "e3e98bac-d43a-40c5-ae98-0afbf5af92d8",
   "metadata": {
    "id": "e3e98bac-d43a-40c5-ae98-0afbf5af92d8",
    "tags": []
   },
   "outputs": [],
   "source": [
    "import re\n",
    "import time\n",
    "import os\n",
    "import string\n",
    "import tiktoken"
   ]
  },
  {
   "cell_type": "markdown",
   "id": "948ef3af",
   "metadata": {},
   "source": [
    "## Load data"
   ]
  },
  {
   "cell_type": "markdown",
   "id": "876f7bc5",
   "metadata": {},
   "source": [
    "Read - French wikipedia data"
   ]
  },
  {
   "cell_type": "code",
   "execution_count": 2,
   "id": "19c2c9bf-3305-413c-af09-7b13e9618696",
   "metadata": {
    "tags": []
   },
   "outputs": [
    {
     "data": {
      "text/plain": [
       "234906617"
      ]
     },
     "execution_count": 2,
     "metadata": {},
     "output_type": "execute_result"
    }
   ],
   "source": [
    "with open('frwiki.txt', 'r', encoding='utf-8') as f:\n",
    "    wiki_text = f.read()\n",
    "len(wiki_text)"
   ]
  },
  {
   "cell_type": "markdown",
   "id": "43f53208",
   "metadata": {},
   "source": [
    "Read - French news data (AFP)"
   ]
  },
  {
   "cell_type": "code",
   "execution_count": 3,
   "id": "45a2eb61-f244-4e64-bca3-c7af9a2229b7",
   "metadata": {
    "tags": []
   },
   "outputs": [
    {
     "data": {
      "text/plain": [
       "3983212551"
      ]
     },
     "execution_count": 3,
     "metadata": {},
     "output_type": "execute_result"
    }
   ],
   "source": [
    "with open('afp-clean.txt', 'r', encoding='utf-8') as f:\n",
    "    afp_text = f.read()\n",
    "len(afp_text)"
   ]
  },
  {
   "cell_type": "markdown",
   "id": "bd666489",
   "metadata": {},
   "source": [
    "Read - French books data"
   ]
  },
  {
   "cell_type": "code",
   "execution_count": 4,
   "id": "2b8ade7a-81dd-430e-9ec8-430582de178a",
   "metadata": {
    "id": "2b8ade7a-81dd-430e-9ec8-430582de178a",
    "tags": []
   },
   "outputs": [
    {
     "data": {
      "text/plain": [
       "377820372"
      ]
     },
     "execution_count": 4,
     "metadata": {},
     "output_type": "execute_result"
    }
   ],
   "source": [
    "with open('input-fr-tiktoken.txt', 'r', encoding='utf-8') as f:\n",
    "    books_text = f.read()\n",
    "len(books_text)"
   ]
  },
  {
   "cell_type": "markdown",
   "id": "af90c1e4",
   "metadata": {},
   "source": [
    "## Cleanup data"
   ]
  },
  {
   "cell_type": "code",
   "execution_count": 51,
   "id": "dd99ad7b",
   "metadata": {
    "scrolled": true
   },
   "outputs": [
    {
     "name": "stdout",
     "output_type": "stream",
     "text": [
      "Victor Hugo\n",
      "Les travailleurs de la mer\n",
      "1866\n",
      " Un texte du domaine public.\n",
      " Une édition libre.\n",
      " ISBN—978-2-8247-1074-7\n",
      " BIBEBOOK\n",
      " www.bibebook.com\n",
      " À propos de Bibebook :\n",
      " Vous avez la certitude, en téléchargeant un livre sur Bibebook.com de lire un livre de qualité :\n",
      " Nous apportons un soin particulier à la qualité des textes, à la mise en page, à la typographie, à la navigation à l’intérieur du livre, et à la cohérence à travers toute la collection.\n",
      " Les ebooks distribués par Bibebook sont réalisés par des bénévoles de l'Association de Promotion de l'Ecriture et de la Lecture, qui a comme objectif : la promotion de l'écriture et de la lecture, la diffusion, la protection, la conservation et la restauration de l'écrit.\n",
      " Aidez nous :\n",
      " Vous pouvez nous rejoindre et nous aider, sur le site de Bibebook.\n",
      " http://www.bibebook.com/joinus\n",
      " Votre aide est la bienvenue.\n",
      " Erreurs :\n",
      " Si vous trouvez des erreurs dans cette édition, merci de les signaler à :\n",
      " error@bibebook.com\n",
      " Télécharger cet ebook :\n",
      " http://www.bibebook.com/search/978-2-8247-1074-7\n",
      " Crédits :\n",
      " Sources :\n",
      " Ont contribué à cette édition :\n",
      " Fontes :\n",
      " Licence :\n",
      " Le texte suivant est une œuvre du domaine public édité sous la licence Creatives Commons BY-SA\n",
      " Lire la licence\n",
      " Cette œuvre est publiée sous la licence CC-BY-SA, ce qui signifie que vous pouvez légalement la copier, la redistribuer, l’envoyer à vos amis. Vous êtes d’ailleurs encouragé à le faire.\n",
      " Vous devez attribuer l’œuvre aux différents auteurs, y compris à Bibebook.\n",
      "Je dédie ce livre au rocher d’hospitalité et de liberté, à ce coin de vieille terre normande où vit le noble petit peuple de la mer, à l’île de Guernesey, sévère et douce, mon asile actuel, mon tombeau probable.\n",
      "V. H.\n",
      "La religion, la société, la nature ; telles sont les trois luttes de l’homme. Ces trois luttes sont en même temps ses trois besoins ; il faut qu’il croie, de là le temple ; il faut qu’il crée, de là la cité ; il faut qu’il vive, de là la charrue et le navire. Mais ces trois solutions contiennent trois guerres. La mystérieuse difficulté de la vie sort de toutes les trois. L’homme a affaire à l’obstacle sous la forme superstition, sous la forme préjugé, et sous la forme élément. Un triple anankè pèse sur nous, l’anankè des dogmes, l’anankè des lois, l’anankè des choses. Dans Notre-Dame de Paris, l’auteur a dénoncé le premier ; dans les Misérables, il a signalé le second ; dans ce livre, il indique le troisième.\n",
      "A ces trois fatalités qui enveloppent l’homme se mêle la fatalité intérieure, l’anankè suprême, le cœur humain.\n",
      "Hauteville-House, mars 1866.\n",
      "PREMIÈRE PARTIE\n",
      "LIVRE PREMIER\n",
      "DE QUOI SE COMPOSE UNE MAUVAISE RÉPUTATION\n",
      "Chapitre 1\n",
      "UN MOT ÉCRIT SUR UNE PAGE BLANCHE\n",
      "La Christmas de 182… fut remarquable à Guernesey. Il neigea ce jour-là. Dans les îles de la Manche, un hiver où il gèle à glace est mémorable, et la neige fait événement.\n",
      "Le matin de cette Christmas, la route qui longe la mer de Saint-Pierre-Port au Valle était toute blanche. Il avait neigé depuis minuit jusqu’à l’aube. Vers neuf heures, peu après le lever du soleil, comme ce n’était pas encore le moment pour les anglicans d’aller à l’église de Saint-Sampson et pour les wesleyens d’aller à la chapelle Eldad, le chemin était à peu près désert. Dans tout le tronçon de route qui sépare la première tour de la seconde tour, il n’y avait que trois passants, un enfant, un homme et une femme. Ces trois passants, marchant à distance les uns des autres, n’avaient visiblement aucun lien entre eux. L’enfant, d’une huitaine d’années, s’était arrêté, et regardait la neige avec curiosité. L’homme venait derrière la femme, à une centaine de pas d’intervalle. Il allait comme elle du côté de Saint-Sampson. L’homme, jeune encore, semblait quelque chose comme un ouvrier ou un matelot. Il avait ses habits de tous les jours, une vareuse de gros drap brun, et un pantalon à jambières goudronnées, ce qui paraissait indiquer qu’en dépit de la fête il n’irait à aucune chapelle. Ses épais souliers de cuir brut, aux semelles garnies de gros clous, laissaient sur la neige une empreinte plus ressemblante à une serrure de prison qu’à un pied d’homme. La passante, elle, avait évidemment déjà sa toilette d’église ; elle portait une large mante ouatée de soie noire à faille, sous laquelle elle était fort coquettement ajustée d’une robe de popeline d’Irlande à bandes alternées blanches et roses, et, si elle n’eût eu des bas rouges, on eût pu la prendre pour une parisienne. Elle allait devant elle avec une vivacité libre et légère, et, à cette marche qui n’a encore rien porté de la vie, on devinait une jeune fille. Elle avait cette grâce fugitive de l’allure qui marque la plus délicate des transitions, l’adolescence, les deux crépuscules mêlés, le commencement d’une femme dans la fin d’un enfant. L’homme ne la remarquait pas.\n",
      "Selon M. Chaath, la liste transmise à Israël comporte les noms suivants: \n",
      "k,lk,lk,l\n",
      "\n"
     ]
    }
   ],
   "source": [
    "text = \"\"\"Victor Hugo\n",
    "\n",
    "\n",
    "Les travailleurs de la mer\n",
    "\n",
    "\n",
    "\n",
    "\n",
    "\n",
    "1866\n",
    "\n",
    "\n",
    "\n",
    "\t\t\t\tUn texte du domaine public.\n",
    "\n",
    "\t\t\t\tUne édition libre.\n",
    "\n",
    "\t\t\tISBN—978-2-8247-1074-7\n",
    "\n",
    "\n",
    "\n",
    "\t\t\t \t\t\t\tBIBEBOOK\n",
    "\n",
    "\t\t\t\twww.bibebook.com\n",
    "\n",
    "\n",
    "\n",
    "\n",
    "\n",
    "\t \t \t \t\t\tÀ propos de Bibebook :\n",
    "\n",
    "\t\t \t\t\tVous avez la certitude, en téléchargeant un livre sur Bibebook.com de lire un livre de qualité :\n",
    "\n",
    "\t\t\tNous apportons un soin particulier à la qualité des textes, à la mise en page, à la typographie, à la navigation à l’intérieur du livre, \t\t\tet à la cohérence à travers toute la collection.\n",
    "\n",
    "\t\t\tLes ebooks distribués par Bibebook sont réalisés par des bénévoles de l'Association de Promotion de l'Ecriture et de la Lecture, qui a comme objectif : \t\t\tla promotion de l'écriture et de la lecture, la diffusion, la protection, la conservation et la restauration de l'écrit.\n",
    "\n",
    "\t \t \t\t\tAidez nous :\n",
    "\n",
    "\t\t \t\t\tVous pouvez nous rejoindre et nous aider, sur le site de Bibebook.\n",
    "\n",
    "\t\t\thttp://www.bibebook.com/joinus\n",
    "\n",
    "\t\t\tVotre aide est la bienvenue.\n",
    "\n",
    "\t \t \t\t\tErreurs :\n",
    "\n",
    "\t\t \t\t\tSi vous trouvez des erreurs dans cette édition, merci de les signaler à :\n",
    "\n",
    "\t\t\terror@bibebook.com\n",
    "\n",
    "\t \t \t\t\tTélécharger cet ebook :\n",
    "\n",
    "\n",
    "\n",
    "\t\t\t\thttp://www.bibebook.com/search/978-2-8247-1074-7\n",
    "\n",
    "\n",
    "\n",
    "\n",
    "\n",
    "\t \t \t \t\t\tCrédits :\n",
    "\n",
    "\t \t \t\t\tSources :\n",
    "\n",
    "\n",
    "\n",
    "- B.N.F.\n",
    "\n",
    "- Éfélé\n",
    "\n",
    "\t \tOnt contribué à cette édition :\n",
    "\n",
    "\n",
    "\n",
    "- Association de Promotion de l'Ecriture et de la Lecture\n",
    "\n",
    "\t \tFontes :\n",
    "\n",
    "\t\t \t\t\t- David Rakowski's\n",
    "\n",
    "\t\t\t- Manfred Klein\n",
    "\n",
    "\t\t\t \t\t\t- Philipp H. Poll\n",
    "\n",
    "\n",
    "\n",
    "\n",
    "\n",
    "\t \t\t \t \t \t\t\tLicence :\n",
    "\n",
    "\t \tLe texte suivant est une œuvre du domaine public édité sous la licence Creatives Commons BY-SA\n",
    "\n",
    "\n",
    "\n",
    "\t \t \t\t\tLire la licence\n",
    "\n",
    "\t \tCette œuvre est publiée sous la licence CC-BY-SA, ce qui signifie que vous pouvez légalement la copier, \t\t\tla redistribuer, l’envoyer à vos amis. Vous êtes d’ailleurs encouragé à le faire.\n",
    "\n",
    "\t \tVous devez attribuer l’œuvre aux différents auteurs, y compris à Bibebook.\n",
    "\n",
    "\n",
    "\n",
    "\n",
    "\n",
    "Je dédie ce livre au rocher d’hospitalité et de liberté, à ce coin de vieille terre normande où vit le noble petit peuple de la mer, à l’île de Guernesey, sévère et douce, mon asile actuel, mon tombeau probable.\n",
    "\n",
    "V. H.\n",
    "\n",
    "La religion, la société, la nature ; telles sont les trois luttes de l’homme. Ces trois luttes sont en même temps ses trois besoins ; il faut qu’il croie, de là le temple ; il faut qu’il crée, de là la cité ; il faut qu’il vive, de là la charrue et le navire. Mais ces trois solutions contiennent trois guerres. La mystérieuse difficulté de la vie sort de toutes les trois. L’homme a affaire à l’obstacle sous la forme superstition, sous la forme préjugé, et sous la forme élément. Un triple anankè pèse sur nous, l’anankè des dogmes, l’anankè des lois, l’anankè des choses. Dans Notre-Dame de Paris, l’auteur a dénoncé le premier ; dans les Misérables, il a signalé le second ; dans ce livre, il indique le troisième.\n",
    "\n",
    "A ces trois fatalités qui enveloppent l’homme se mêle la fatalité intérieure, l’anankè suprême, le cœur humain.\n",
    "\n",
    "Hauteville-House, mars 1866.\n",
    "\n",
    "\n",
    "\n",
    "\n",
    "\n",
    "q\n",
    "\n",
    "\n",
    "\n",
    "\n",
    "\n",
    "I\n",
    "\n",
    "\n",
    "\n",
    "PREMIÈRE PARTIE\n",
    "\n",
    "\n",
    "\n",
    "\n",
    "\n",
    "I\n",
    "\n",
    "\n",
    "\n",
    "LIVRE PREMIER\n",
    "\n",
    "DE QUOI SE COMPOSE UNE MAUVAISE RÉPUTATION\n",
    "\n",
    "\n",
    "\n",
    "\n",
    "\n",
    "Chapitre 1\n",
    "\n",
    "\n",
    "\n",
    "UN MOT ÉCRIT SUR UNE PAGE BLANCHE\n",
    "\n",
    "\n",
    "La Christmas de 182… fut       remarquable à Guernesey. Il neigea ce jour-là. Dans les îles de la Manche, un hiver où il gèle à glace est mémorable, et la neige fait événement.\n",
    "\n",
    "Le matin de cette Christmas, la route qui longe la mer de Saint-Pierre-Port au Valle était toute blanche. Il avait neigé depuis minuit jusqu’à l’aube. Vers neuf heures, peu après le lever du soleil, comme ce n’était pas encore le moment pour les anglicans d’aller à l’église de Saint-Sampson et pour les wesleyens d’aller à la chapelle Eldad, le chemin était à peu près désert. Dans tout le tronçon de route qui sépare la première tour de la seconde tour, il n’y avait que trois passants, un enfant, un homme et une femme. Ces trois passants, marchant à distance les uns des autres, n’avaient visiblement aucun lien entre eux. L’enfant, d’une huitaine d’années, s’était arrêté, et regardait la neige avec curiosité. L’homme venait derrière la femme, à une centaine de pas d’intervalle. Il allait comme elle du côté de Saint-Sampson. L’homme, jeune encore, semblait quelque chose comme un ouvrier ou un matelot. Il avait ses habits de tous les jours, une vareuse de gros drap brun, et un pantalon à jambières goudronnées, ce qui paraissait indiquer qu’en dépit de la fête il n’irait à aucune chapelle. Ses épais souliers de cuir brut, aux semelles garnies de gros clous, laissaient sur la neige une empreinte plus ressemblante à une serrure de prison qu’à un pied d’homme. La passante, elle, avait évidemment déjà sa toilette d’église ; elle portait une large mante ouatée de soie noire à faille, sous laquelle elle était fort coquettement ajustée d’une robe de popeline d’Irlande à bandes alternées blanches et roses, et, si elle n’eût eu des bas rouges, on eût pu la prendre pour une parisienne. Elle allait devant elle avec une vivacité libre et légère, et, à cette marche qui n’a encore rien porté de la vie, on devinait une jeune fille. Elle avait cette grâce fugitive de l’allure qui marque la plus délicate des transitions, l’adolescence, les deux crépuscules mêlés, le commencement d’une femme dans la fin d’un enfant. L’homme ne la remarquait pas.\n",
    "Selon M. Chaath, la liste transmise à Israël comporte les noms suivants: \n",
    "- Yasser Arafat, chef de l'OLP \n",
    "- Zakariya al-Agha, chef du Fatah dans la bande de Gaza. \n",
    "- Freih Abou Meddeine, ancien président de l'ordre des avocats à Gaza. \n",
    "- Fayçal Husseini, principal dirigeant palestinien dans les territoires occupés. \n",
    "- Hanane Achraoui, ancien porte-parole de la délégation palestinienne aux bilatérales de paix avec Israël. \n",
    "- Saëb Erakat, chef de la délégation palestinienne aux bilatérales. \n",
    "- Ryad al-Zaanoun, chef du Haut Conseil de la santé dans la bande de Gaza. \n",
    "- Nabil Chaath, chef de la délégation palestinienne aux négociations sur l'autonomie. \n",
    "- Yasser Amro, membre du Comité exécutif de l'OLP (CEOLP). \n",
    "- Intissar al-Wazir (Oum Jihad), épouse de Khalil al-Wazir (Abou Jihad), numéro deux de l'OLP assassiné en 1988 à Tunis. \n",
    "- Elias Freij, maire de Bethléem.\n",
    "- Abdel Aziz al-Haj Ahmed, ancien déporté.\n",
    "- Ahmed Koreï (Abou Alaa), chef du département économique de l'OLP.\n",
    "- Samir Ghoché, membre du CEOLP.\n",
    "k,lk,lk,l\n",
    "\"\"\"\n",
    "\n",
    "text = clean_text(text)\n",
    "print(text)"
   ]
  },
  {
   "cell_type": "code",
   "execution_count": 50,
   "id": "c18e877f-779e-4c2f-928f-a9cf867a8371",
   "metadata": {
    "tags": []
   },
   "outputs": [],
   "source": [
    "def clean_text(text):\n",
    "    # Convertir le texte en minuscules\n",
    "    #text = text.lower()\n",
    "    \n",
    "    # Supprimer Caractère parasite\n",
    "    text = re.sub(r'^.$(\\n|\\r\\n)?', '\\n', text, flags=re.MULTILINE)\n",
    "    \n",
    "    # Supprimer les listes\n",
    "    text = re.sub(r'^[ \\t]*-.*$(\\n|\\r\\n)?', '\\n', text, flags=re.MULTILINE)\n",
    "    \n",
    "    # Supprimer les caractères de ponctuation\n",
    "    #text = text.translate(str.maketrans('', '', string.punctuation))\n",
    "\n",
    "    # Supprimer les chiffres\n",
    "    #text = re.sub('\\d+', '', text)\n",
    "\n",
    "    # Supprimer les espaces en double ou plus\n",
    "    text = re.sub(r'[\\t ]{2,}', ' ', text)\n",
    "    \n",
    "    # Remplacer les sauts de ligne par des espaces\n",
    "    text = re.sub('\\n{2,}', '\\n', text)\n",
    "\n",
    "    return text"
   ]
  },
  {
   "cell_type": "code",
   "execution_count": null,
   "id": "1dc3a66f",
   "metadata": {},
   "outputs": [],
   "source": [
    "%%time \n",
    "\n",
    "books_text_temp = clean_text(books_text)"
   ]
  },
  {
   "cell_type": "code",
   "execution_count": 8,
   "id": "025139b6-b7c4-4c8b-ad75-e697fd31bd3b",
   "metadata": {
    "tags": []
   },
   "outputs": [
    {
     "data": {
      "text/plain": [
       "354301673"
      ]
     },
     "execution_count": 8,
     "metadata": {},
     "output_type": "execute_result"
    }
   ],
   "source": [
    "len(books_text_temp)"
   ]
  },
  {
   "cell_type": "code",
   "execution_count": 17,
   "id": "7245a0dc",
   "metadata": {},
   "outputs": [],
   "source": [
    "books_text"
   ]
  },
  {
   "cell_type": "code",
   "execution_count": 16,
   "id": "1849f108",
   "metadata": {},
   "outputs": [
    {
     "data": {
      "text/plain": [
       "'nfesseur r pondit pour vous assurer si vous avez affaire au diable ou votre mari t tez le front si vous trouvez des cornes vous serez s re de quoi demanda la femme la maison qu habitait gilliatt avait'"
      ]
     },
     "execution_count": 16,
     "metadata": {},
     "output_type": "execute_result"
    }
   ],
   "source": [
    "books_text_temp[10500:10700]"
   ]
  },
  {
   "cell_type": "markdown",
   "id": "31994301",
   "metadata": {},
   "source": [
    "## Tokenize data"
   ]
  },
  {
   "cell_type": "code",
   "execution_count": null,
   "id": "b0859ca1",
   "metadata": {
    "tags": []
   },
   "outputs": [],
   "source": [
    "tokenizers = tiktoken.get_encoding(\"gpt2\") #gpt2 cl100k_base\n",
    "vocab_size = tokenizers.n_vocab\n",
    "print(\"\\nvocab size: \", vocab_size)"
   ]
  },
  {
   "cell_type": "code",
   "execution_count": null,
   "id": "19d20667",
   "metadata": {},
   "outputs": [],
   "source": [
    "%%time\n",
    "tokenized = tokenizers.encode(text)"
   ]
  },
  {
   "cell_type": "markdown",
   "id": "233f1842",
   "metadata": {},
   "source": [
    "## Save data"
   ]
  },
  {
   "cell_type": "code",
   "execution_count": null,
   "id": "b6a9d9e7",
   "metadata": {},
   "outputs": [],
   "source": []
  },
  {
   "cell_type": "code",
   "execution_count": null,
   "id": "iD2NpJRm94Af",
   "metadata": {
    "colab": {
     "base_uri": "https://localhost:8080/"
    },
    "id": "iD2NpJRm94Af",
    "outputId": "9561c2c2-5238-4bf2-b0e6-539dfbb9db2b",
    "tags": []
   },
   "outputs": [],
   "source": [
    "%%time\n",
    "data = torch.tensor(, dtype=torch.long)\n",
    "print(data.shape, data.dtype)\n",
    "print(data[:12])"
   ]
  },
  {
   "cell_type": "code",
   "execution_count": null,
   "id": "29cdc6e5",
   "metadata": {},
   "outputs": [],
   "source": [
    "%%time\n",
    "def split_data(texts, split=0.9):\n",
    "    n = int(split*len(texts)) \n",
    "    train_data = texts[:n]\n",
    "    val_data = texts[n:]\n",
    "    return train_data, val_data \n",
    "\n",
    "wiki_train, wiki_val = split_data(tokenizers.encode(wiki_text))\n",
    "afp_train, afp_val = split_data(tokenizers.encode(afp_text))\n",
    "books_train, books_val = split_data(tokenizers.encode(books_text))"
   ]
  },
  {
   "cell_type": "code",
   "execution_count": null,
   "id": "f1d9b70e",
   "metadata": {},
   "outputs": [],
   "source": []
  },
  {
   "cell_type": "code",
   "execution_count": null,
   "id": "01ed94be",
   "metadata": {},
   "outputs": [],
   "source": []
  },
  {
   "cell_type": "markdown",
   "id": "091044d8",
   "metadata": {},
   "source": [
    "."
   ]
  }
 ],
 "metadata": {
  "colab": {
   "provenance": []
  },
  "kernelspec": {
   "display_name": "Python 3 (ipykernel)",
   "language": "python",
   "name": "python3"
  },
  "language_info": {
   "codemirror_mode": {
    "name": "ipython",
    "version": 3
   },
   "file_extension": ".py",
   "mimetype": "text/x-python",
   "name": "python",
   "nbconvert_exporter": "python",
   "pygments_lexer": "ipython3",
   "version": "3.11.3"
  }
 },
 "nbformat": 4,
 "nbformat_minor": 5
}
