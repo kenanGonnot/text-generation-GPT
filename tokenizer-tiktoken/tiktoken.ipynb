{
 "cells": [
  {
   "cell_type": "markdown",
   "id": "12ef8ae4",
   "metadata": {},
   "source": [
    "## ChatGPT Like\n",
    "\n",
    "using TikToken"
   ]
  },
  {
   "cell_type": "code",
   "execution_count": null,
   "id": "7cdc286d",
   "metadata": {
    "id": "e3e98bac-d43a-40c5-ae98-0afbf5af92d8",
    "tags": []
   },
   "outputs": [],
   "source": [
    "!pip install tiktoken matplotlib -q\n",
    "#!pip install matplotlib -q "
   ]
  },
  {
   "cell_type": "code",
   "execution_count": null,
   "id": "e3e98bac-d43a-40c5-ae98-0afbf5af92d8",
   "metadata": {
    "id": "e3e98bac-d43a-40c5-ae98-0afbf5af92d8",
    "tags": []
   },
   "outputs": [],
   "source": [
    "import re\n",
    "import matplotlib.pyplot as plt\n",
    "import time\n",
    "import os\n",
    "import tiktoken\n",
    "import torch\n",
    "import torch.nn as nn\n",
    "import numpy as np\n",
    "from torch.nn import functional as F"
   ]
  },
  {
   "cell_type": "markdown",
   "id": "afa6f915",
   "metadata": {},
   "source": [
    "Hyperparameters"
   ]
  },
  {
   "cell_type": "code",
   "execution_count": 65,
   "id": "bf3e5387-071a-4ba3-b1ee-d328e21e9106",
   "metadata": {
    "colab": {
     "base_uri": "https://localhost:8080/"
    },
    "id": "bf3e5387-071a-4ba3-b1ee-d328e21e9106",
    "outputId": "10262c88-ec0c-4462-f136-80ec27cb8a71",
    "tags": []
   },
   "outputs": [],
   "source": [
    "batch_size = 128 #64 # how many independent sequences will we process in parallel?\n",
    "block_size = 128 #256 # what is the maximum context length for predictions?\n",
    "max_iters = 2\n",
    "eval_interval = 500\n",
    "learning_rate = 3e-4\n",
    "device = 'cuda' if torch.cuda.is_available() else 'cpu'\n",
    "eval_iters = 200\n",
    "n_embd = 384\n",
    "n_head = 6\n",
    "n_layer = 6\n",
    "dropout = 0.3\n",
    "# ------------\n",
    "\n",
    "#torch.manual_seed(1337)"
   ]
  },
  {
   "cell_type": "code",
   "execution_count": 4,
   "id": "1a9c7642",
   "metadata": {
    "colab": {
     "base_uri": "https://localhost:8080/"
    },
    "id": "1a9c7642",
    "outputId": "62dde767-e7af-499a-f381-95dd3e5532fa",
    "tags": []
   },
   "outputs": [
    {
     "data": {
      "text/plain": [
       "True"
      ]
     },
     "execution_count": 4,
     "metadata": {},
     "output_type": "execute_result"
    }
   ],
   "source": [
    "torch.cuda.is_available()"
   ]
  },
  {
   "cell_type": "markdown",
   "id": "948ef3af",
   "metadata": {},
   "source": [
    "## Set up"
   ]
  },
  {
   "cell_type": "markdown",
   "id": "5699f027",
   "metadata": {},
   "source": [
    "Read input + Tokenizer"
   ]
  },
  {
   "cell_type": "code",
   "execution_count": 5,
   "id": "ed76a22e-8f91-48d3-ae00-1c90110fe35d",
   "metadata": {
    "tags": []
   },
   "outputs": [],
   "source": [
    "import zipfile\n",
    "with zipfile.ZipFile('afp-clean.txt.zip', 'r') as zip_ref:\n",
    "    zip_ref.extractall()"
   ]
  },
  {
   "cell_type": "code",
   "execution_count": 5,
   "id": "19c2c9bf-3305-413c-af09-7b13e9618696",
   "metadata": {
    "tags": []
   },
   "outputs": [
    {
     "data": {
      "text/plain": [
       "234906617"
      ]
     },
     "execution_count": 5,
     "metadata": {},
     "output_type": "execute_result"
    }
   ],
   "source": [
    "with open('frwiki.txt', 'r', encoding='utf-8') as f:\n",
    "    text = f.read()\n",
    "len(text)"
   ]
  },
  {
   "cell_type": "code",
   "execution_count": 6,
   "id": "45a2eb61-f244-4e64-bca3-c7af9a2229b7",
   "metadata": {
    "tags": []
   },
   "outputs": [
    {
     "data": {
      "text/plain": [
       "4218119168"
      ]
     },
     "execution_count": 6,
     "metadata": {},
     "output_type": "execute_result"
    }
   ],
   "source": [
    "with open('afp-clean.txt', 'r', encoding='utf-8') as f:\n",
    "    text += f.read()\n",
    "len(text)"
   ]
  },
  {
   "cell_type": "code",
   "execution_count": 7,
   "id": "2b8ade7a-81dd-430e-9ec8-430582de178a",
   "metadata": {
    "id": "2b8ade7a-81dd-430e-9ec8-430582de178a",
    "tags": []
   },
   "outputs": [
    {
     "data": {
      "text/plain": [
       "4595939540"
      ]
     },
     "execution_count": 7,
     "metadata": {},
     "output_type": "execute_result"
    }
   ],
   "source": [
    "with open('input-fr-tiktoken.txt', 'r', encoding='utf-8') as f:\n",
    "    text += f.read()\n",
    "len(text)"
   ]
  },
  {
   "cell_type": "code",
   "execution_count": 8,
   "id": "c18e877f-779e-4c2f-928f-a9cf867a8371",
   "metadata": {
    "tags": []
   },
   "outputs": [],
   "source": [
    "import re\n",
    "\n",
    "def clean_text(text):\n",
    "    # Remplace les caractères spéciaux et les chiffres par des espaces\n",
    "    cleaned_text = re.sub('[^a-zA-Z]', ' ', text)\n",
    "    # Convertit en minuscules\n",
    "    cleaned_text = cleaned_text.lower()\n",
    "    # Supprime les espaces en double\n",
    "    cleaned_text = re.sub('\\s+', ' ', cleaned_text)\n",
    "    \n",
    "    return cleaned_text\n",
    "\n",
    "text = clean_text(text)"
   ]
  },
  {
   "cell_type": "code",
   "execution_count": 9,
   "id": "025139b6-b7c4-4c8b-ad75-e697fd31bd3b",
   "metadata": {
    "tags": []
   },
   "outputs": [
    {
     "data": {
      "text/plain": [
       "4252582954"
      ]
     },
     "execution_count": 9,
     "metadata": {},
     "output_type": "execute_result"
    }
   ],
   "source": [
    "len(text)"
   ]
  },
  {
   "cell_type": "code",
   "execution_count": 10,
   "id": "b0859ca1",
   "metadata": {
    "tags": []
   },
   "outputs": [
    {
     "name": "stdout",
     "output_type": "stream",
     "text": [
      "\n",
      "vocab size:  50257\n"
     ]
    }
   ],
   "source": [
    "tokenizers = tiktoken.get_encoding(\"gpt2\") #gpt2 cl100k_base\n",
    "vocab_size = tokenizers.n_vocab\n",
    "print(\"\\nvocab size: \", vocab_size)"
   ]
  },
  {
   "cell_type": "markdown",
   "id": "0712356d",
   "metadata": {},
   "source": [
    "Sampling\n",
    "```\n",
    "te = text[20000:20400]\n",
    "len(tokenizers.encode(te))\n",
    "```\n"
   ]
  },
  {
   "cell_type": "code",
   "execution_count": 11,
   "id": "iD2NpJRm94Af",
   "metadata": {
    "colab": {
     "base_uri": "https://localhost:8080/"
    },
    "id": "iD2NpJRm94Af",
    "outputId": "9561c2c2-5238-4bf2-b0e6-539dfbb9db2b",
    "tags": []
   },
   "outputs": [
    {
     "name": "stdout",
     "output_type": "stream",
     "text": [
      "torch.Size([1291943032]) torch.int64\n",
      "tensor([12172, 16111, 22357,   454, 12172, 16111,  1888,   568,   401,   660,\n",
      "          390, 22357])\n"
     ]
    }
   ],
   "source": [
    "data = torch.tensor(tokenizers.encode(text), dtype=torch.long)\n",
    "print(data.shape, data.dtype)\n",
    "print(data[:12])"
   ]
  },
  {
   "cell_type": "code",
   "execution_count": 12,
   "id": "54a3e314-c9e1-4f40-811b-bea925e83036",
   "metadata": {
    "tags": []
   },
   "outputs": [
    {
     "name": "stdout",
     "output_type": "stream",
     "text": [
      "1162748728\n"
     ]
    }
   ],
   "source": [
    "n = int(0.9*len(data)) # first 90% will be train, rest val\n",
    "print(n)\n",
    "train_data = data[:n]\n",
    "val_data = data[n:]\n",
    "#train_data[:block_size+1]"
   ]
  },
  {
   "cell_type": "markdown",
   "id": "41e08566",
   "metadata": {},
   "source": [
    "Model + utilities"
   ]
  },
  {
   "cell_type": "code",
   "execution_count": 13,
   "id": "86704639-48f8-4800-a9a4-7a45831bc079",
   "metadata": {
    "id": "86704639-48f8-4800-a9a4-7a45831bc079",
    "tags": []
   },
   "outputs": [],
   "source": [
    "# data loading\n",
    "def get_batch(split):\n",
    "    # generate a small batch of data of inputs x and targets y\n",
    "    data = train_data if split == 'train' else val_data\n",
    "    ix = torch.randint(len(data) - block_size, (batch_size,))\n",
    "    x = torch.stack([data[i:i+block_size] for i in ix])\n",
    "    y = torch.stack([data[i+1:i+block_size+1] for i in ix])\n",
    "    x, y = x.to(device), y.to(device)\n",
    "    return x, y\n",
    "\n",
    "@torch.no_grad()\n",
    "def estimate_loss():\n",
    "    out = {}\n",
    "    model.eval()\n",
    "    for split in ['train', 'val']:\n",
    "        losses = torch.zeros(eval_iters)\n",
    "        for k in range(eval_iters):\n",
    "            X, Y = get_batch(split)\n",
    "            logits, loss = model(X, Y)\n",
    "            losses[k] = loss.item()\n",
    "        out[split] = losses.mean()\n",
    "    model.train()\n",
    "    return out\n",
    "\n",
    "class Head(nn.Module):\n",
    "    \"\"\" one head of self-attention \"\"\"\n",
    "\n",
    "    def __init__(self, head_size):\n",
    "        super().__init__()\n",
    "        self.key = nn.Linear(n_embd, head_size, bias=False)\n",
    "        self.query = nn.Linear(n_embd, head_size, bias=False)\n",
    "        self.value = nn.Linear(n_embd, head_size, bias=False)\n",
    "        self.register_buffer('tril', torch.tril(torch.ones(block_size, block_size)))\n",
    "\n",
    "        self.dropout = nn.Dropout(dropout)\n",
    "\n",
    "    def forward(self, x):\n",
    "        # input of size (batch, time-step, channels)\n",
    "        # output of size (batch, time-step, head size)\n",
    "        B,T,C = x.shape\n",
    "        k = self.key(x)   # (B,T,hs)\n",
    "        q = self.query(x) # (B,T,hs)\n",
    "        # compute attention scores (\"affinities\")\n",
    "        wei = q @ k.transpose(-2,-1) * k.shape[-1]**-0.5 # (B, T, hs) @ (B, hs, T) -> (B, T, T)\n",
    "        wei = wei.masked_fill(self.tril[:T, :T] == 0, float('-inf')) # (B, T, T)\n",
    "        wei = F.softmax(wei, dim=-1) # (B, T, T)\n",
    "        wei = self.dropout(wei)\n",
    "        # perform the weighted aggregation of the values\n",
    "        v = self.value(x) # (B,T,hs)\n",
    "        out = wei @ v # (B, T, T) @ (B, T, hs) -> (B, T, hs)\n",
    "        return out\n",
    "\n",
    "class MultiHeadAttention(nn.Module):\n",
    "    \"\"\" multiple heads of self-attention in parallel \"\"\"\n",
    "\n",
    "    def __init__(self, num_heads, head_size):\n",
    "        super().__init__()\n",
    "        self.heads = nn.ModuleList([Head(head_size) for _ in range(num_heads)])\n",
    "        self.proj = nn.Linear(head_size * num_heads, n_embd)\n",
    "        self.dropout = nn.Dropout(dropout)\n",
    "\n",
    "    def forward(self, x):\n",
    "        out = torch.cat([h(x) for h in self.heads], dim=-1)\n",
    "        out = self.dropout(self.proj(out))\n",
    "        return out\n",
    "\n",
    "class FeedFoward(nn.Module):\n",
    "    \"\"\" a simple linear layer followed by a non-linearity \"\"\"\n",
    "\n",
    "    def __init__(self, n_embd):\n",
    "        super().__init__()\n",
    "        self.net = nn.Sequential(\n",
    "            nn.Linear(n_embd, 4 * n_embd),\n",
    "            nn.ReLU(),\n",
    "            nn.Linear(4 * n_embd, n_embd),\n",
    "            nn.Dropout(dropout),\n",
    "        )\n",
    "\n",
    "    def forward(self, x):\n",
    "        return self.net(x)\n",
    "\n",
    "class Block(nn.Module):\n",
    "    \"\"\" Transformer block: communication followed by computation \"\"\"\n",
    "\n",
    "    def __init__(self, n_embd, n_head):\n",
    "        # n_embd: embedding dimension, n_head: the number of heads we'd like\n",
    "        super().__init__()\n",
    "        head_size = n_embd // n_head\n",
    "        self.sa = MultiHeadAttention(n_head, head_size)\n",
    "        self.ffwd = FeedFoward(n_embd)\n",
    "        self.ln1 = nn.LayerNorm(n_embd)\n",
    "        self.ln2 = nn.LayerNorm(n_embd)\n",
    "\n",
    "    def forward(self, x):\n",
    "        x = x + self.sa(self.ln1(x))\n",
    "        x = x + self.ffwd(self.ln2(x))\n",
    "        return x\n",
    "\n",
    "class GPTLanguageModel(nn.Module):\n",
    "\n",
    "    def __init__(self):\n",
    "        super().__init__()\n",
    "        # each token directly reads off the logits for the next token from a lookup table\n",
    "        self.token_embedding_table = nn.Embedding(vocab_size, n_embd)\n",
    "        self.position_embedding_table = nn.Embedding(block_size, n_embd)\n",
    "        self.blocks = nn.Sequential(*[Block(n_embd, n_head=n_head) for _ in range(n_layer)])\n",
    "        self.ln_f = nn.LayerNorm(n_embd) # final layer norm\n",
    "        self.lm_head = nn.Linear(n_embd, vocab_size)\n",
    "\n",
    "        # better init, not covered in the original GPT video, but important, will cover in followup video\n",
    "        self.apply(self._init_weights)\n",
    "\n",
    "    def _init_weights(self, module):\n",
    "        if isinstance(module, nn.Linear):\n",
    "            torch.nn.init.normal_(module.weight, mean=0.0, std=0.02)\n",
    "            if module.bias is not None:\n",
    "                torch.nn.init.zeros_(module.bias)\n",
    "        elif isinstance(module, nn.Embedding):\n",
    "            torch.nn.init.normal_(module.weight, mean=0.0, std=0.02)\n",
    "\n",
    "    def forward(self, idx, targets=None):\n",
    "        B, T = idx.shape\n",
    "\n",
    "        # idx and targets are both (B,T) tensor of integers\n",
    "        tok_emb = self.token_embedding_table(idx) # (B,T,C)\n",
    "        pos_emb = self.position_embedding_table(torch.arange(T, device=device)) # (T,C)\n",
    "        x = tok_emb + pos_emb # (B,T,C)\n",
    "        x = self.blocks(x) # (B,T,C)\n",
    "        x = self.ln_f(x) # (B,T,C)\n",
    "        logits = self.lm_head(x) # (B,T,vocab_size)\n",
    "\n",
    "        if targets is None:\n",
    "            loss = None\n",
    "        else:\n",
    "            B, T, C = logits.shape\n",
    "            logits = logits.view(B*T, C)\n",
    "            targets = targets.view(B*T)\n",
    "            loss = F.cross_entropy(logits, targets)\n",
    "\n",
    "        return logits, loss\n",
    "\n",
    "    def generate(self, idx, max_new_tokens):\n",
    "        # idx is (B, T) array of indices in the current context\n",
    "        for _ in range(max_new_tokens):\n",
    "            # crop idx to the last block_size tokens\n",
    "            idx_cond = idx[:, -block_size:]\n",
    "            # get the predictions\n",
    "            logits, loss = self(idx_cond)\n",
    "            # focus only on the last time step\n",
    "            logits = logits[:, -1, :] # becomes (B, C)\n",
    "            # apply softmax to get probabilities\n",
    "            probs = F.softmax(logits, dim=-1) # (B, C)\n",
    "            # sample from the distribution\n",
    "            idx_next = torch.multinomial(probs, num_samples=1) # (B, 1)\n",
    "            # append sampled index to the running sequence\n",
    "            idx = torch.cat((idx, idx_next), dim=1) # (B, T+1)\n",
    "        return idx"
   ]
  },
  {
   "cell_type": "code",
   "execution_count": 14,
   "id": "5c9c51a6",
   "metadata": {
    "tags": []
   },
   "outputs": [
    {
     "name": "stdout",
     "output_type": "stream",
     "text": [
      "saved-tiktoken-64batch-128block-\n"
     ]
    }
   ],
   "source": [
    "#backup_prefix = \"saved-tiktoken-{}batch-{}block-\".format(batch_size, block_size)\n",
    "backup_prefix = \"saved-tiktoken-64batch-128block-\"\n",
    "print(backup_prefix)\n",
    "\n",
    "def get_last_backup(backup_prefix):\n",
    "    matching_files = [f for f in os.listdir('.') if os.path.isfile(f) and f.startswith(backup_prefix)]\n",
    "    if (len(matching_files)==0):\n",
    "        return \"\"\n",
    "    return max(matching_files, key=os.path.getmtime)\n",
    "\n",
    "def extract_iteration_count_from(file_name):\n",
    "    match = re.search(r'\\d+(?=-ite)', file_name)\n",
    "    if match:\n",
    "        return int(match.group())\n",
    "    else:\n",
    "        return 0\n"
   ]
  },
  {
   "cell_type": "code",
   "execution_count": 15,
   "id": "a311bbd8",
   "metadata": {
    "tags": []
   },
   "outputs": [],
   "source": [
    "def append_losses_to_file(filename, float_list):\n",
    "    # open file in append mode\n",
    "    with open(filename, 'a') as f:\n",
    "        np.savetxt(f, float_list) #.numpy() \n",
    "    # close the file\n",
    "    f.close()\n"
   ]
  },
  {
   "cell_type": "markdown",
   "id": "667ae86d",
   "metadata": {},
   "source": [
    "## Instanciate model"
   ]
  },
  {
   "cell_type": "markdown",
   "id": "96131056",
   "metadata": {},
   "source": [
    "Create Model"
   ]
  },
  {
   "cell_type": "code",
   "execution_count": 55,
   "id": "0af3b262",
   "metadata": {
    "colab": {
     "base_uri": "https://localhost:8080/"
    },
    "id": "7e0e56ad-6416-43ea-bad4-76ad06ea9b80",
    "outputId": "5f491a56-141e-44ef-9633-a8e9018ce260",
    "tags": []
   },
   "outputs": [],
   "source": [
    "model = GPTLanguageModel()"
   ]
  },
  {
   "cell_type": "markdown",
   "id": "f754cfed",
   "metadata": {},
   "source": [
    "Load weights from previous backup (if any)"
   ]
  },
  {
   "cell_type": "code",
   "execution_count": 56,
   "id": "35dbd8e3",
   "metadata": {
    "tags": []
   },
   "outputs": [],
   "source": [
    "last_backup_file = get_last_backup(backup_prefix)"
   ]
  },
  {
   "cell_type": "code",
   "execution_count": 57,
   "id": "f70311e9-96c4-4b30-8acf-9cbe200d0383",
   "metadata": {
    "id": "f70311e9-96c4-4b30-8acf-9cbe200d0383",
    "outputId": "63b0d96c-1825-4254-90d0-2796df0c646f",
    "tags": []
   },
   "outputs": [
    {
     "name": "stdout",
     "output_type": "stream",
     "text": [
      "Weights loaded from saved-tiktoken-64batch-128block-5320-ite-x_xx\n"
     ]
    }
   ],
   "source": [
    "if (len(last_backup_file)!=0):\n",
    "    model.load_state_dict(torch.load(last_backup_file))\n",
    "    model.eval()\n",
    "    print(\"Weights loaded from\", last_backup_file)"
   ]
  },
  {
   "cell_type": "markdown",
   "id": "dce79421",
   "metadata": {},
   "source": [
    "Prepare model"
   ]
  },
  {
   "cell_type": "code",
   "execution_count": 58,
   "id": "7e0e56ad-6416-43ea-bad4-76ad06ea9b80",
   "metadata": {
    "colab": {
     "base_uri": "https://localhost:8080/"
    },
    "id": "7e0e56ad-6416-43ea-bad4-76ad06ea9b80",
    "outputId": "5f491a56-141e-44ef-9633-a8e9018ce260",
    "tags": []
   },
   "outputs": [
    {
     "name": "stdout",
     "output_type": "stream",
     "text": [
      "49.337425 M parameters\n"
     ]
    }
   ],
   "source": [
    "m = model.to(device)\n",
    "# print the number of parameters in the model\n",
    "print(sum(p.numel() for p in m.parameters())/1e6, 'M parameters')\n",
    "\n",
    "# create a PyTorch optimizer\n",
    "optimizer = torch.optim.AdamW(model.parameters(), lr=learning_rate)"
   ]
  },
  {
   "cell_type": "markdown",
   "id": "dfc48ee6",
   "metadata": {},
   "source": [
    "## Run Training"
   ]
  },
  {
   "cell_type": "code",
   "execution_count": 59,
   "id": "a3d1be2f-6bb6-41e9-9937-cc8853dc0cfb",
   "metadata": {
    "id": "a3d1be2f-6bb6-41e9-9937-cc8853dc0cfb",
    "tags": []
   },
   "outputs": [],
   "source": [
    "max_iters = 100"
   ]
  },
  {
   "cell_type": "code",
   "execution_count": 60,
   "id": "32c45bd5-712a-49ca-b103-35a63f2bc222",
   "metadata": {
    "id": "32c45bd5-712a-49ca-b103-35a63f2bc222",
    "pycharm": {
     "is_executing": true
    },
    "scrolled": true,
    "tags": []
   },
   "outputs": [
    {
     "name": "stdout",
     "output_type": "stream",
     "text": [
      "step 0: train loss 3.4102, val loss 3.8977\n",
      "Time : 18.832878 seconds\n",
      "step 1: train loss 3.4404, val loss 3.9359\n",
      "Time : 18.835680 seconds\n",
      "step 2: train loss 3.5057, val loss 3.9718\n",
      "Time : 18.833261 seconds\n",
      "step 3: train loss 3.4610, val loss 3.9371\n",
      "Time : 18.831726 seconds\n",
      "step 4: train loss 3.4620, val loss 3.9255\n",
      "Time : 18.815757 seconds\n",
      "step 5: train loss 3.4728, val loss 3.9653\n",
      "Time : 18.837496 seconds\n",
      "step 6: train loss 3.4775, val loss 3.9811\n",
      "Time : 18.815846 seconds\n",
      "step 7: train loss 3.4567, val loss 3.9601\n",
      "Time : 18.818722 seconds\n",
      "step 8: train loss 3.4566, val loss 3.9260\n",
      "Time : 18.829642 seconds\n",
      "step 9: train loss 3.4596, val loss 3.9252\n",
      "Time : 18.798090 seconds\n",
      "step 10: train loss 3.4607, val loss 3.9397\n",
      "Time : 18.805257 seconds\n",
      "step 11: train loss 3.4600, val loss 3.9609\n",
      "Time : 18.843353 seconds\n",
      "step 12: train loss 3.4597, val loss 3.9546\n",
      "Time : 18.834365 seconds\n",
      "step 13: train loss 3.4609, val loss 3.9500\n",
      "Time : 18.837474 seconds\n",
      "step 14: train loss 3.4474, val loss 3.9498\n",
      "Time : 18.824864 seconds\n",
      "step 15: train loss 3.4437, val loss 3.9533\n",
      "Time : 18.837076 seconds\n",
      "step 16: train loss 3.4473, val loss 3.9467\n",
      "Time : 18.815464 seconds\n",
      "step 17: train loss 3.4512, val loss 3.9418\n",
      "Time : 18.796316 seconds\n",
      "step 18: train loss 3.4502, val loss 3.9412\n",
      "Time : 18.802095 seconds\n",
      "step 19: train loss 3.4512, val loss 3.9373\n",
      "Time : 18.800401 seconds\n",
      "step 20: train loss 3.4451, val loss 3.9361\n",
      "Time : 18.800758 seconds\n",
      "step 21: train loss 3.4378, val loss 3.9413\n",
      "Time : 18.837437 seconds\n",
      "step 22: train loss 3.4446, val loss 3.9362\n",
      "Time : 18.810835 seconds\n",
      "step 23: train loss 3.4435, val loss 3.9421\n",
      "Time : 18.805726 seconds\n",
      "step 24: train loss 3.4413, val loss 3.9470\n",
      "Time : 18.842400 seconds\n",
      "step 25: train loss 3.4466, val loss 3.9489\n",
      "Time : 18.847252 seconds\n",
      "step 26: train loss 3.4410, val loss 3.9458\n",
      "Time : 18.801572 seconds\n",
      "step 27: train loss 3.4444, val loss 3.9382\n",
      "Time : 18.812967 seconds\n",
      "step 28: train loss 3.4491, val loss 3.9380\n",
      "Time : 18.831895 seconds\n",
      "step 29: train loss 3.4419, val loss 3.9273\n",
      "Time : 18.802321 seconds\n",
      "step 30: train loss 3.4398, val loss 3.9248\n",
      "Time : 18.799263 seconds\n",
      "step 31: train loss 3.4296, val loss 3.9316\n",
      "Time : 18.800920 seconds\n",
      "step 32: train loss 3.4369, val loss 3.9298\n",
      "Time : 18.830856 seconds\n",
      "step 33: train loss 3.4368, val loss 3.9237\n",
      "Time : 18.816358 seconds\n",
      "step 34: train loss 3.4325, val loss 3.9206\n",
      "Time : 18.801207 seconds\n",
      "step 35: train loss 3.4354, val loss 3.9210\n",
      "Time : 18.802239 seconds\n",
      "step 36: train loss 3.4272, val loss 3.9229\n",
      "Time : 18.800126 seconds\n",
      "step 37: train loss 3.4348, val loss 3.9260\n",
      "Time : 18.802430 seconds\n",
      "step 38: train loss 3.4220, val loss 3.9204\n",
      "Time : 18.798773 seconds\n",
      "step 39: train loss 3.4295, val loss 3.9246\n",
      "Time : 18.799552 seconds\n",
      "step 40: train loss 3.4270, val loss 3.9301\n",
      "Time : 18.806804 seconds\n",
      "step 41: train loss 3.4342, val loss 3.9245\n",
      "Time : 18.841049 seconds\n",
      "step 42: train loss 3.4236, val loss 3.9255\n",
      "Time : 18.842302 seconds\n",
      "step 43: train loss 3.4217, val loss 3.9193\n",
      "Time : 18.849192 seconds\n",
      "step 44: train loss 3.4261, val loss 3.9336\n",
      "Time : 18.805738 seconds\n",
      "step 45: train loss 3.4185, val loss 3.9361\n",
      "Time : 18.798975 seconds\n",
      "step 46: train loss 3.4246, val loss 3.9201\n",
      "Time : 18.803267 seconds\n",
      "step 47: train loss 3.4139, val loss 3.9255\n",
      "Time : 18.798940 seconds\n",
      "step 48: train loss 3.4167, val loss 3.9235\n",
      "Time : 18.800787 seconds\n",
      "step 49: train loss 3.4214, val loss 3.9273\n",
      "Time : 18.802614 seconds\n",
      "step 50: train loss 3.4132, val loss 3.9236\n",
      "Time : 18.800339 seconds\n",
      "step 51: train loss 3.4230, val loss 3.9265\n",
      "Time : 18.824466 seconds\n",
      "step 52: train loss 3.4138, val loss 3.9226\n",
      "Time : 18.821419 seconds\n",
      "step 53: train loss 3.4117, val loss 3.9290\n",
      "Time : 18.801433 seconds\n",
      "step 54: train loss 3.4213, val loss 3.9238\n",
      "Time : 18.801244 seconds\n",
      "step 55: train loss 3.4150, val loss 3.9185\n",
      "Time : 18.800390 seconds\n",
      "step 56: train loss 3.4210, val loss 3.9174\n",
      "Time : 18.800160 seconds\n",
      "step 57: train loss 3.4108, val loss 3.9232\n",
      "Time : 18.800931 seconds\n",
      "step 58: train loss 3.4111, val loss 3.9279\n",
      "Time : 18.799152 seconds\n",
      "step 59: train loss 3.4080, val loss 3.9196\n",
      "Time : 18.802233 seconds\n",
      "step 60: train loss 3.4047, val loss 3.9160\n",
      "Time : 18.802674 seconds\n",
      "step 61: train loss 3.4098, val loss 3.9234\n",
      "Time : 18.797324 seconds\n",
      "step 62: train loss 3.4062, val loss 3.9263\n",
      "Time : 18.801275 seconds\n",
      "step 63: train loss 3.4101, val loss 3.9309\n",
      "Time : 18.800891 seconds\n",
      "step 64: train loss 3.4163, val loss 3.9463\n",
      "Time : 18.800521 seconds\n",
      "step 65: train loss 3.4073, val loss 3.9374\n",
      "Time : 18.801399 seconds\n",
      "step 66: train loss 3.4036, val loss 3.9162\n",
      "Time : 18.801555 seconds\n",
      "step 67: train loss 3.4051, val loss 3.9079\n",
      "Time : 18.800548 seconds\n",
      "step 68: train loss 3.4116, val loss 3.9010\n",
      "Time : 18.802308 seconds\n",
      "step 69: train loss 3.4110, val loss 3.9104\n",
      "Time : 18.799342 seconds\n",
      "step 70: train loss 3.4056, val loss 3.9177\n",
      "Time : 18.799816 seconds\n",
      "step 71: train loss 3.4055, val loss 3.9232\n",
      "Time : 18.801478 seconds\n",
      "step 72: train loss 3.4084, val loss 3.9197\n",
      "Time : 18.805618 seconds\n",
      "step 73: train loss 3.4006, val loss 3.9127\n",
      "Time : 18.795757 seconds\n",
      "step 74: train loss 3.4036, val loss 3.9149\n",
      "Time : 18.806779 seconds\n",
      "step 75: train loss 3.3997, val loss 3.9101\n",
      "Time : 18.845468 seconds\n",
      "step 76: train loss 3.3997, val loss 3.9184\n",
      "Time : 18.801159 seconds\n",
      "step 77: train loss 3.4010, val loss 3.9232\n",
      "Time : 18.802588 seconds\n",
      "step 78: train loss 3.4007, val loss 3.9295\n",
      "Time : 18.794711 seconds\n",
      "step 79: train loss 3.4061, val loss 3.9349\n",
      "Time : 18.801922 seconds\n",
      "step 80: train loss 3.4036, val loss 3.9385\n",
      "Time : 18.800665 seconds\n",
      "step 81: train loss 3.4051, val loss 3.9386\n",
      "Time : 18.876134 seconds\n",
      "step 82: train loss 3.3971, val loss 3.9344\n",
      "Time : 18.821475 seconds\n",
      "step 83: train loss 3.3939, val loss 3.9280\n",
      "Time : 18.924624 seconds\n",
      "step 84: train loss 3.4002, val loss 3.9225\n",
      "Time : 19.183227 seconds\n",
      "step 85: train loss 3.3939, val loss 3.9206\n",
      "Time : 19.000220 seconds\n",
      "step 86: train loss 3.3901, val loss 3.9276\n",
      "Time : 19.037936 seconds\n",
      "step 87: train loss 3.3937, val loss 3.9345\n",
      "Time : 19.022476 seconds\n",
      "step 88: train loss 3.3929, val loss 3.9377\n",
      "Time : 18.956448 seconds\n",
      "step 89: train loss 3.3945, val loss 3.9242\n",
      "Time : 19.045065 seconds\n",
      "step 90: train loss 3.3904, val loss 3.9298\n",
      "Time : 18.980285 seconds\n",
      "step 91: train loss 3.3942, val loss 3.9422\n",
      "Time : 18.977712 seconds\n",
      "step 92: train loss 3.3959, val loss 3.9332\n",
      "Time : 18.965363 seconds\n",
      "step 93: train loss 3.3879, val loss 3.9212\n",
      "Time : 18.903454 seconds\n",
      "step 94: train loss 3.3899, val loss 3.9107\n",
      "Time : 18.985522 seconds\n",
      "step 95: train loss 3.3970, val loss 3.9095\n",
      "Time : 19.022999 seconds\n",
      "step 96: train loss 3.3827, val loss 3.9230\n",
      "Time : 19.007591 seconds\n",
      "step 97: train loss 3.3922, val loss 3.9218\n",
      "Time : 18.975490 seconds\n",
      "step 98: train loss 3.3870, val loss 3.9267\n",
      "Time : 18.937115 seconds\n",
      "step 99: train loss 3.3867, val loss 3.9255\n",
      "Time : 18.930376 seconds\n"
     ]
    }
   ],
   "source": [
    "all_train_losses = []\n",
    "all_val_losses = []\n",
    "for iter in range(max_iters):\n",
    "    start_time = time.time()\n",
    "\n",
    "    # every once in a while evaluate the loss on train and val sets\n",
    "    #if iter % eval_interval == 0 or iter == max_iters - 1:\n",
    "    losses = estimate_loss()\n",
    "    print(f\"step {iter}: train loss {losses['train']:.4f}, val loss {losses['val']:.4f}\")\n",
    "    \n",
    "    all_train_losses.append(losses['train'])\n",
    "    all_val_losses.append(losses['val'])\n",
    "\n",
    "    # sample a batch of data\n",
    "    xb, yb = get_batch('train')\n",
    "\n",
    "    # evaluate the loss\n",
    "    logits, loss = model(xb, yb)\n",
    "    optimizer.zero_grad(set_to_none=True)\n",
    "    loss.backward()\n",
    "    optimizer.step()\n",
    "    print(\"Time : {:2f} seconds\".format(time.time()-start_time))"
   ]
  },
  {
   "cell_type": "markdown",
   "id": "fbbf9087",
   "metadata": {},
   "source": [
    "Create samples"
   ]
  },
  {
   "cell_type": "code",
   "execution_count": 61,
   "id": "bd397621-3e6f-4fd7-ac88-919e6560db70",
   "metadata": {
    "id": "bd397621-3e6f-4fd7-ac88-919e6560db70",
    "pycharm": {
     "is_executing": true
    },
    "tags": []
   },
   "outputs": [
    {
     "name": "stdout",
     "output_type": "stream",
     "text": [
      "! inauguration elle a d nonc son r sident quand elle regardait la pr sidente d importe une d n galaise tre confront e de d c dans laquelle la ligue desoiseaux corim tres a b servi lanc liste des silselabires l anvo en cas deLG balad edoint d autorast le chef de f d ration de la ville tre attribu d accord sur le ierge du raf stationn et qu il s agira sur le m me cap re terrer des forces officielles et une campagne qui oivent sa part indiquer l inde en garantiment depuis dans lequel et marin david serp le conseil de s curit fiat toNeg du ariel pattel trad aux etats unis ont pour le dossier appel d mocrates et qu il devait intervenir vers le stade mondial du congr s en goran l onu le pentabel am ricain pld dames atlerin par colombie deux bastions dont marquent les talibans tras la bande de geter\n"
     ]
    }
   ],
   "source": [
    "# generate from the model\n",
    "context = torch.zeros((1, 1), dtype=torch.long, device=device)\n",
    "\n",
    "print(tokenizers.decode(m.generate(context, max_new_tokens=250)[0].tolist()))\n",
    "#open('more.txt', 'w').write(decode(m.generate(context, max_new_tokens=10000)[0].tolist()))\n"
   ]
  },
  {
   "cell_type": "code",
   "execution_count": 62,
   "id": "e3ff9527-53fa-4029-a42a-3c799961a738",
   "metadata": {
    "id": "e3ff9527-53fa-4029-a42a-3c799961a738",
    "scrolled": true,
    "tags": []
   },
   "outputs": [
    {
     "name": "stdout",
     "output_type": "stream",
     "text": [
      "Sous un soleil, auss dodi bertona pays bas dont la r gion au bout de la route serbe avit e d sicholes pied suivi res arm es rouches remplissant son tour g n ral fra renversement de la jeunisson funer e par une garde frest e ravitaillement un pilote de points en e pieds le santa dengou apr s l gislene gl lamuaili uupr s du minist re u de medental le rappelant que ces vols de l achir les quilibreurs assistance sur la premi re r gn e d ex fense atlantique qu ils devraient tre sign pour ailleurs les pays habitu s le couple est mitig par les victoires dans un d fiose de sum s soul dans un rebond tout co nveau groupe de r dactionn oncom a pr cis que nous avons fait de telles ch c t de la r alit qu il m dit le cardinal peliak impression n y quo m absorption de travailleurs il rejoint c\n"
     ]
    }
   ],
   "source": [
    "context = torch.tensor([tokenizers.encode(\"Sous un soleil, \")], dtype=torch.long, device=device)\n",
    "\n",
    "print(tokenizers.decode(m.generate(context, max_new_tokens=250)[0].tolist()))\n",
    "#open('more.txt', 'w').write(decode(m.generate(context, max_new_tokens=10000)[0].tolist()))\n"
   ]
  },
  {
   "cell_type": "markdown",
   "id": "98c1ffbd",
   "metadata": {},
   "source": [
    "Save results"
   ]
  },
  {
   "cell_type": "code",
   "execution_count": 63,
   "id": "1c4883f1",
   "metadata": {
    "id": "042c197c-d4c7-46a6-8778-b54a58d57e2a",
    "tags": []
   },
   "outputs": [
    {
     "name": "stdout",
     "output_type": "stream",
     "text": [
      "Save in: saved-tiktoken-64batch-128block-5420-ite-x_xx\n"
     ]
    }
   ],
   "source": [
    "last_iteration = extract_iteration_count_from(last_backup_file)\n",
    "current_iteration = last_iteration + max_iters\n",
    "current_save = \"{}{}-ite-x_xx\".format(backup_prefix, current_iteration)\n",
    "print(\"Save in:\",current_save)"
   ]
  },
  {
   "cell_type": "code",
   "execution_count": 64,
   "id": "8c6512e8",
   "metadata": {
    "id": "042c197c-d4c7-46a6-8778-b54a58d57e2a",
    "tags": []
   },
   "outputs": [],
   "source": [
    "torch.save(model.state_dict(), current_save)\n",
    "\n",
    "append_losses_to_file(\"saved-tiktoken-train-losses.txt\", all_train_losses)\n",
    "append_losses_to_file(\"saved-tiktoken-val-losses.txt\", all_val_losses)"
   ]
  },
  {
   "cell_type": "markdown",
   "id": "4fbe2eda",
   "metadata": {},
   "source": [
    "## Graphs"
   ]
  },
  {
   "cell_type": "code",
   "execution_count": 52,
   "id": "4d7ce2ed-f0cf-4eb4-bae1-698e664626b9",
   "metadata": {
    "id": "4d7ce2ed-f0cf-4eb4-bae1-698e664626b9",
    "tags": []
   },
   "outputs": [
    {
     "data": {
      "image/png": "[encoded data removed]",
      "text/plain": [
       "<Figure size 640x480 with 1 Axes>"
      ]
     },
     "metadata": {},
     "output_type": "display_data"
    }
   ],
   "source": [
    "# load array from file and convert to PyTorch tensor\n",
    "train_losses = np.loadtxt('saved-tiktoken-train-losses.txt')\n",
    "val_losses = np.loadtxt('saved-tiktoken-val-losses.txt')\n",
    "#my_tensor = torch.from_numpy(my_array)\n",
    "\n",
    "\n",
    "def plot_losses(losses1, losses2):\n",
    "    # create a new figure\n",
    "    plt.figure()\n",
    "\n",
    "    # plot the first series of losses\n",
    "    plt.plot(losses1, label='Train loss')\n",
    "\n",
    "    # plot the second series of losses\n",
    "    plt.plot(losses2, label='Val loss')\n",
    "\n",
    "    # add labels and title to the plot\n",
    "    plt.xlabel('Epoch')\n",
    "    plt.ylabel('Loss')\n",
    "    plt.title('Losses')\n",
    "\n",
    "    # add a legend to the plot\n",
    "    plt.legend()\n",
    "\n",
    "    # display the plot\n",
    "    plt.show()\n",
    "\n",
    "plot_losses(train_losses, val_losses)"
   ]
  },
  {
   "cell_type": "markdown",
   "id": "55ac6c92",
   "metadata": {},
   "source": [
    "## Clean-up"
   ]
  },
  {
   "cell_type": "code",
   "execution_count": 66,
   "id": "7cc1e560",
   "metadata": {
    "tags": []
   },
   "outputs": [],
   "source": [
    "del m\n",
    "del model\n",
    "del optimizer\n",
    "\n",
    "torch.cuda.empty_cache()"
   ]
  },
  {
   "cell_type": "markdown",
   "id": "091044d8",
   "metadata": {},
   "source": [
    "."
   ]
  }
 ],
 "metadata": {
  "colab": {
   "provenance": []
  },
  "kernelspec": {
   "display_name": "chatGPT",
   "language": "python",
   "name": "chatgpt"
  },
  "language_info": {
   "codemirror_mode": {
    "name": "ipython",
    "version": 3
   },
   "file_extension": ".py",
   "mimetype": "text/x-python",
   "name": "python",
   "nbconvert_exporter": "python",
   "pygments_lexer": "ipython3",
   "version": "3.11.2"
  }
 },
 "nbformat": 4,
 "nbformat_minor": 5
}
